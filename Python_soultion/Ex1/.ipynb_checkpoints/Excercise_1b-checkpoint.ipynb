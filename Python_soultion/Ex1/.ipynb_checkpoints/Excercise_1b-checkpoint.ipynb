{
 "cells": [
  {
   "cell_type": "markdown",
   "metadata": {},
   "source": [
    "# Programing Exercise 1B-Linear regression with multiple variables\n",
    "\n"
   ]
  },
  {
   "cell_type": "markdown",
   "metadata": {
    "collapsed": true
   },
   "source": [
    "* [Fetured Normilazation](#feature)\n",
    "* [Linear regression with one varible](#reg)\n",
    "* [Graident Decsent](#dec)"
   ]
  },
  {
   "cell_type": "code",
   "execution_count": 184,
   "metadata": {
    "collapsed": true
   },
   "outputs": [],
   "source": [
    "# %load ../../standard_import.txt\n",
    "import pandas as pd\n",
    "import numpy as np\n",
    "import matplotlib.pyplot as plt\n",
    "\n",
    "from sklearn.linear_model import LinearRegression\n",
    "from sklearn import preprocessing\n",
    "from mpl_toolkits.mplot3d import axes3d\n",
    "\n",
    "pd.set_option('display.notebook_repr_html', False)\n",
    "pd.set_option('display.max_columns', None)\n",
    "pd.set_option('display.max_rows', 150)\n",
    "pd.set_option('display.max_seq_items', None)\n",
    " \n",
    "#%config InlineBackend.figure_formats = {'pdf',}\n",
    "%matplotlib inline  \n",
    "\n",
    "import seaborn as sns\n",
    "sns.set_context('notebook')\n",
    "sns.set_style('white')\n",
    "%config IPCompleter.greedy=True"
   ]
  },
  {
   "cell_type": "code",
   "execution_count": 185,
   "metadata": {},
   "outputs": [
    {
     "data": {
      "text/plain": [
       "array([[  2104,   1600,   2400,   1416,   3000,   1985,   1534,   1427,\n",
       "          1380,   1494,   1940,   2000,   1890,   4478,   1268,   2300,\n",
       "          1320,   1236,   2609,   3031,   1767,   1888,   1604,   1962,\n",
       "          3890,   1100,   1458,   2526,   2200,   2637,   1839,   1000,\n",
       "          2040,   3137,   1811,   1437,   1239,   2132,   4215,   2162,\n",
       "          1664,   2238,   2567,   1200,    852,   1852,   1203],\n",
       "       [     3,      3,      3,      2,      4,      4,      3,      3,\n",
       "             3,      3,      4,      3,      3,      5,      3,      4,\n",
       "             2,      3,      4,      4,      3,      2,      3,      4,\n",
       "             3,      3,      3,      3,      3,      3,      2,      1,\n",
       "             4,      3,      4,      3,      3,      4,      4,      4,\n",
       "             2,      3,      4,      3,      2,      4,      3],\n",
       "       [399900, 329900, 369000, 232000, 539900, 299900, 314900, 198999,\n",
       "        212000, 242500, 239999, 347000, 329999, 699900, 259900, 449900,\n",
       "        299900, 199900, 499998, 599000, 252900, 255000, 242900, 259900,\n",
       "        573900, 249900, 464500, 469000, 475000, 299900, 349900, 169900,\n",
       "        314900, 579900, 285900, 249900, 229900, 345000, 549000, 287000,\n",
       "        368500, 329900, 314000, 299000, 179900, 299900, 239500]])"
      ]
     },
     "execution_count": 185,
     "metadata": {},
     "output_type": "execute_result"
    }
   ],
   "source": [
    "data "
   ]
  },
  {
   "cell_type": "code",
   "execution_count": 188,
   "metadata": {},
   "outputs": [
    {
     "data": {
      "text/plain": [
       "array([[   1, 2104,    3],\n",
       "       [   1, 1600,    3],\n",
       "       [   1, 2400,    3],\n",
       "       [   1, 1416,    2],\n",
       "       [   1, 3000,    4],\n",
       "       [   1, 1985,    4],\n",
       "       [   1, 1534,    3],\n",
       "       [   1, 1427,    3],\n",
       "       [   1, 1380,    3],\n",
       "       [   1, 1494,    3],\n",
       "       [   1, 1940,    4],\n",
       "       [   1, 2000,    3],\n",
       "       [   1, 1890,    3],\n",
       "       [   1, 4478,    5],\n",
       "       [   1, 1268,    3],\n",
       "       [   1, 2300,    4],\n",
       "       [   1, 1320,    2],\n",
       "       [   1, 1236,    3],\n",
       "       [   1, 2609,    4],\n",
       "       [   1, 3031,    4],\n",
       "       [   1, 1767,    3],\n",
       "       [   1, 1888,    2],\n",
       "       [   1, 1604,    3],\n",
       "       [   1, 1962,    4],\n",
       "       [   1, 3890,    3],\n",
       "       [   1, 1100,    3],\n",
       "       [   1, 1458,    3],\n",
       "       [   1, 2526,    3],\n",
       "       [   1, 2200,    3],\n",
       "       [   1, 2637,    3],\n",
       "       [   1, 1839,    2],\n",
       "       [   1, 1000,    1],\n",
       "       [   1, 2040,    4],\n",
       "       [   1, 3137,    3],\n",
       "       [   1, 1811,    4],\n",
       "       [   1, 1437,    3],\n",
       "       [   1, 1239,    3],\n",
       "       [   1, 2132,    4],\n",
       "       [   1, 4215,    4],\n",
       "       [   1, 2162,    4],\n",
       "       [   1, 1664,    2],\n",
       "       [   1, 2238,    3],\n",
       "       [   1, 2567,    4],\n",
       "       [   1, 1200,    3],\n",
       "       [   1,  852,    2],\n",
       "       [   1, 1852,    4],\n",
       "       [   1, 1203,    3]])"
      ]
     },
     "execution_count": 188,
     "metadata": {},
     "output_type": "execute_result"
    }
   ],
   "source": [
    "X_matrix "
   ]
  },
  {
   "cell_type": "code",
   "execution_count": 187,
   "metadata": {},
   "outputs": [
    {
     "data": {
      "image/png": "[encoded data removed]",
      "text/plain": [
       "<matplotlib.figure.Figure at 0x162b81f0208>"
      ]
     },
     "metadata": {},
     "output_type": "display_data"
    }
   ],
   "source": [
    "data = np.loadtxt('ex1/ex1data2.txt', delimiter=',',dtype =int,usecols=(0,1,2),unpack=True)\n",
    "\n",
    "X = np.transpose(np.array(data[:-1])) #size of houses \n",
    "y =  np.transpose(np.array(data[-1:])) # number of bedroms \n",
    "Z = np.c_[data[:3]] # price of house \n",
    "\n",
    "\n",
    "#X_matrix = np.insert(X_matrix,0,1,axis=1)\n",
    "X_matrix = np.insert(X,0,1,axis=1)\n",
    "m = y.size\n",
    "plt.grid(True)\n",
    "plt.xlim([0,5000])\n",
    "dummy = plt.hist(X_matrix [:,0],label = 'col1')\n",
    "dummy = plt.hist(X_matrix [:,1],label = 'col2')\n",
    "dummy = plt.hist(X_matrix [:,2],label = 'col3')\n",
    "plt.title('Clearly we need feature normalization.')\n",
    "plt.xlabel('Column Value')\n",
    "plt.ylabel('Counts')\n",
    "dummy = plt.legend()\n"
   ]
  },
  {
   "cell_type": "markdown",
   "metadata": {},
   "source": [
    "** Fetured Normilazation** <a id='feature'></a> "
   ]
  },
  {
   "cell_type": "code",
   "execution_count": 189,
   "metadata": {
    "collapsed": true
   },
   "outputs": [],
   "source": [
    "stored_feature_means, stored_feature_stds = [], []\n",
    "Xnorm = X_matrix.copy()"
   ]
  },
  {
   "cell_type": "code",
   "execution_count": 190,
   "metadata": {},
   "outputs": [],
   "source": [
    "for x in range(Xnorm.shape[1]): \n",
    "    stored_feature_means.append(np.mean(Xnorm[:,x]))   # add mean to empty list objects (append keepes on addining objects)\n",
    "    stored_feature_stds.append(np.std(Xnorm[:,x]))# add standared devation to empty list objects (append keepes on addining objects)\n",
    "    if not x: continue\n",
    "    #Faster to not recompute the mean and std again, just used stored values\n",
    "    Xnorm[:,x] = (Xnorm[:,x] - stored_feature_means[-1])/stored_feature_stds[-1]"
   ]
  },
  {
   "cell_type": "code",
   "execution_count": 191,
   "metadata": {},
   "outputs": [
    {
     "data": {
      "text/plain": [
       "[1.0, 2000.6808510638298, 3.1702127659574466]"
      ]
     },
     "execution_count": 191,
     "metadata": {},
     "output_type": "execute_result"
    }
   ],
   "source": [
    " stored_feature_means"
   ]
  },
  {
   "cell_type": "code",
   "execution_count": 202,
   "metadata": {},
   "outputs": [
    {
     "data": {
      "text/plain": [
       "array([[ 1,  0,  0],\n",
       "       [ 1,  0,  0],\n",
       "       [ 1,  0,  0],\n",
       "       [ 1,  0, -1],\n",
       "       [ 1,  1,  1],\n",
       "       [ 1,  0,  1],\n",
       "       [ 1,  0,  0],\n",
       "       [ 1,  0,  0],\n",
       "       [ 1,  0,  0],\n",
       "       [ 1,  0,  0],\n",
       "       [ 1,  0,  1],\n",
       "       [ 1,  0,  0],\n",
       "       [ 1,  0,  0],\n",
       "       [ 1,  3,  2],\n",
       "       [ 1,  0,  0],\n",
       "       [ 1,  0,  1],\n",
       "       [ 1,  0, -1],\n",
       "       [ 1,  0,  0],\n",
       "       [ 1,  0,  1],\n",
       "       [ 1,  1,  1],\n",
       "       [ 1,  0,  0],\n",
       "       [ 1,  0, -1],\n",
       "       [ 1,  0,  0],\n",
       "       [ 1,  0,  1],\n",
       "       [ 1,  2,  0],\n",
       "       [ 1, -1,  0],\n",
       "       [ 1,  0,  0],\n",
       "       [ 1,  0,  0],\n",
       "       [ 1,  0,  0],\n",
       "       [ 1,  0,  0],\n",
       "       [ 1,  0, -1],\n",
       "       [ 1, -1, -2],\n",
       "       [ 1,  0,  1],\n",
       "       [ 1,  1,  0],\n",
       "       [ 1,  0,  1],\n",
       "       [ 1,  0,  0],\n",
       "       [ 1,  0,  0],\n",
       "       [ 1,  0,  1],\n",
       "       [ 1,  2,  1],\n",
       "       [ 1,  0,  1],\n",
       "       [ 1,  0, -1],\n",
       "       [ 1,  0,  0],\n",
       "       [ 1,  0,  1],\n",
       "       [ 1, -1,  0],\n",
       "       [ 1, -1, -1],\n",
       "       [ 1,  0,  1],\n",
       "       [ 1, -1,  0]])"
      ]
     },
     "execution_count": 202,
     "metadata": {},
     "output_type": "execute_result"
    }
   ],
   "source": [
    "Xnorm"
   ]
  },
  {
   "cell_type": "code",
   "execution_count": 203,
   "metadata": {},
   "outputs": [
    {
     "data": {
      "image/png": "[encoded data removed]",
      "text/plain": [
       "<matplotlib.figure.Figure at 0x162bff8e7f0>"
      ]
     },
     "metadata": {},
     "output_type": "display_data"
    }
   ],
   "source": [
    "#Quick visualize the feature-normalized data\n",
    "plt.grid(True)\n",
    "plt.xlim([-5,5])\n",
    "dummy = plt.hist(Xnorm[:,0],label = 'col1')\n",
    "dummy = plt.hist(Xnorm[:,1],label = 'col2')\n",
    "dummy = plt.hist(Xnorm[:,2],label = 'col3')\n",
    "plt.title('Feature Normalization Accomplished')\n",
    "plt.xlabel('Column Value')\n",
    "plt.ylabel('Counts')\n",
    "dummy = plt.legend()"
   ]
  },
  {
   "cell_type": "markdown",
   "metadata": {},
   "source": [
    "** gradient Descent** <a id='grade'></a> "
   ]
  },
  {
   "cell_type": "code",
   "execution_count": 306,
   "metadata": {
    "collapsed": true
   },
   "outputs": [],
   "source": [
    "def computecostMulti(X,y, theta = np.zeros((3,1)) ):\n",
    "   # theta is an n- dimensional vector of initial theta guess\n",
    "    m = y.size # number of samples we have to train\n",
    "    J = 0\n",
    "    #h = hypothesis = h_{theta}(x) = theta0x0 + theta1x1 + theta2x2 ... using prertyies of vector\n",
    "    #(note we defined vector x0 to vector 1 so we can perform this LA trick)\n",
    "     # h = transpose(theta).X\n",
    "    h = X.dot(theta.T) #dot product of theta(transpose) with X(vector 1,values)\n",
    "    \n",
    "    difference = h-y \n",
    "    J = 1/(2*m)*np.sum(np.square(h-y))\n",
    "    \n",
    "    return(J)\n",
    "    "
   ]
  },
  {
   "cell_type": "code",
   "execution_count": 298,
   "metadata": {},
   "outputs": [],
   "source": [
    "def gradientDescentMulti(X, y, theta, alpha=0.01, num_iters=6500):\n",
    "    m = y.size\n",
    "    J_history = np.zeros(num_iters)\n",
    "    temp = np.matrix(np.zeros(theta.shape))\n",
    "    \n",
    "    for iter in np.arange(num_iters):\n",
    "        h = np.dot(Xnorm,theta.T)\n",
    "        difference = h-y\n",
    "        \n",
    "        for j in range(X.shape[1]):\n",
    "            term = np.multiply(difference, X[:,j])\n",
    "            temp[0,j] = theta[0,j] - (alpha*(1/m)*np.sum(term))\n",
    "            \n",
    "        theta = temp\n",
    "        J_history[iter] = computecostMulti(X, y, theta)\n",
    "    return(theta, J_history)"
   ]
  },
  {
   "cell_type": "code",
   "execution_count": 307,
   "metadata": {},
   "outputs": [
    {
     "data": {
      "text/plain": [
       "-20931011.159574468"
      ]
     },
     "execution_count": 307,
     "metadata": {},
     "output_type": "execute_result"
    }
   ],
   "source": [
    "initial_theta = np.matrix(np.array([0,0,0]))  \n",
    "computecostMulti(Xnorm, y,initial_theta )\n"
   ]
  },
  {
   "cell_type": "code",
   "execution_count": 303,
   "metadata": {},
   "outputs": [],
   "source": [
    "theta, J_history = gradientDescentMulti(Xnorm, y,initial_theta)"
   ]
  },
  {
   "cell_type": "code",
   "execution_count": 304,
   "metadata": {},
   "outputs": [
    {
     "data": {
      "text/plain": [
       "matrix([[ 327228.705396  ,   34811.56440383,   55698.50304613]])"
      ]
     },
     "execution_count": 304,
     "metadata": {},
     "output_type": "execute_result"
    }
   ],
   "source": [
    "theta"
   ]
  },
  {
   "cell_type": "code",
   "execution_count": 305,
   "metadata": {},
   "outputs": [
    {
     "data": {
      "text/plain": [
       "array([  2.09005786e+10,   9.07025540e+09,   5.89976495e+09, ...,\n",
       "         4.66493717e+09,   4.66493717e+09,   4.66493717e+09])"
      ]
     },
     "execution_count": 305,
     "metadata": {},
     "output_type": "execute_result"
    }
   ],
   "source": [
    " J_history"
   ]
  },
  {
   "cell_type": "code",
   "execution_count": 247,
   "metadata": {},
   "outputs": [
    {
     "data": {
      "text/plain": [
       "array([0, 0, 0, 0, 0, 0, 0, 0, 0, 0, 0, 0, 0, 0, 0, 0, 0, 0, 0, 0, 0, 0, 0,\n",
       "       0, 0, 0, 0, 0, 0, 0, 0, 0, 0, 0, 0, 0, 0, 0, 0, 0, 0, 0, 0, 0, 0, 0,\n",
       "       0])"
      ]
     },
     "execution_count": 247,
     "metadata": {},
     "output_type": "execute_result"
    }
   ],
   "source": [
    " Xnorm.dot(initial_theta)"
   ]
  },
  {
   "cell_type": "code",
   "execution_count": 297,
   "metadata": {},
   "outputs": [
    {
     "data": {
      "text/plain": [
       "0"
      ]
     },
     "execution_count": 297,
     "metadata": {},
     "output_type": "execute_result"
    }
   ],
   "source": [
    "initial_theta[1]"
   ]
  },
  {
   "cell_type": "code",
   "execution_count": 249,
   "metadata": {},
   "outputs": [
    {
     "data": {
      "text/plain": [
       "array([0, 0, 0, 0, 0, 0, 0, 0, 0, 0, 0, 0, 0, 0, 0, 0, 0, 0, 0, 0, 0, 0, 0,\n",
       "       0, 0, 0, 0, 0, 0, 0, 0, 0, 0, 0, 0, 0, 0, 0, 0, 0, 0, 0, 0, 0, 0, 0,\n",
       "       0])"
      ]
     },
     "execution_count": 249,
     "metadata": {},
     "output_type": "execute_result"
    }
   ],
   "source": []
  },
  {
   "cell_type": "code",
   "execution_count": null,
   "metadata": {
    "collapsed": true
   },
   "outputs": [],
   "source": []
  }
 ],
 "metadata": {
  "kernelspec": {
   "display_name": "Python 3",
   "language": "python",
   "name": "python3"
  },
  "language_info": {
   "codemirror_mode": {
    "name": "ipython",
    "version": 3
   },
   "file_extension": ".py",
   "mimetype": "text/x-python",
   "name": "python",
   "nbconvert_exporter": "python",
   "pygments_lexer": "ipython3",
   "version": "3.6.3"
  }
 },
 "nbformat": 4,
 "nbformat_minor": 2
}
