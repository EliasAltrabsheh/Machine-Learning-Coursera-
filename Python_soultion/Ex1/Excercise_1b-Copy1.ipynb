{
 "cells": [
  {
   "cell_type": "markdown",
   "metadata": {},
   "source": [
    "# Programing Exercise 2-Logistic regression \n",
    "\n"
   ]
  },
  {
   "cell_type": "markdown",
   "metadata": {
    "collapsed": true
   },
   "source": []
  },
  {
   "cell_type": "code",
   "execution_count": 2,
   "metadata": {
    "collapsed": true
   },
   "outputs": [],
   "source": [
    "# %load ../../standard_import.txt\n",
    "import pandas as pd\n",
    "import numpy as np\n",
    "import matplotlib.pyplot as plt\n",
    "\n",
    "from sklearn.linear_model import LinearRegression\n",
    "from sklearn import preprocessing\n",
    "from mpl_toolkits.mplot3d import axes3d\n",
    "\n",
    "pd.set_option('display.notebook_repr_html', False)\n",
    "pd.set_option('display.max_columns', None)\n",
    "pd.set_option('display.max_rows', 150)\n",
    "pd.set_option('display.max_seq_items', None)\n",
    " \n",
    "#%config InlineBackend.figure_formats = {'pdf',}\n",
    "%matplotlib inline  \n",
    "\n",
    "import seaborn as sns\n",
    "sns.set_context('notebook')\n",
    "sns.set_style('white')\n",
    "%config IPCompleter.greedy=True"
   ]
  },
  {
   "cell_type": "code",
   "execution_count": 7,
   "metadata": {},
   "outputs": [
    {
     "ename": "FileNotFoundError",
     "evalue": "[Errno 2] No such file or directory: 'ex2/ex2data1.txt'",
     "output_type": "error",
     "traceback": [
      "\u001b[1;31m---------------------------------------------------------------------------\u001b[0m",
      "\u001b[1;31mFileNotFoundError\u001b[0m                         Traceback (most recent call last)",
      "\u001b[1;32m<ipython-input-7-946b19124753>\u001b[0m in \u001b[0;36m<module>\u001b[1;34m()\u001b[0m\n\u001b[1;32m----> 1\u001b[1;33m \u001b[0mdata\u001b[0m \u001b[1;33m=\u001b[0m \u001b[0mnp\u001b[0m\u001b[1;33m.\u001b[0m\u001b[0mloadtxt\u001b[0m\u001b[1;33m(\u001b[0m\u001b[1;34m'ex2/ex2data1.txt'\u001b[0m\u001b[1;33m,\u001b[0m \u001b[0mdelimiter\u001b[0m\u001b[1;33m=\u001b[0m\u001b[1;34m','\u001b[0m\u001b[1;33m,\u001b[0m\u001b[0mdtype\u001b[0m \u001b[1;33m=\u001b[0m\u001b[0mint\u001b[0m\u001b[1;33m)\u001b[0m\u001b[1;33m\u001b[0m\u001b[0m\n\u001b[0m",
      "\u001b[1;32m~\\Anaconda3\\lib\\site-packages\\numpy\\lib\\npyio.py\u001b[0m in \u001b[0;36mloadtxt\u001b[1;34m(fname, dtype, comments, delimiter, converters, skiprows, usecols, unpack, ndmin)\u001b[0m\n\u001b[0;32m    896\u001b[0m                 \u001b[0mfh\u001b[0m \u001b[1;33m=\u001b[0m \u001b[0miter\u001b[0m\u001b[1;33m(\u001b[0m\u001b[0mopen\u001b[0m\u001b[1;33m(\u001b[0m\u001b[0mfname\u001b[0m\u001b[1;33m,\u001b[0m \u001b[1;34m'U'\u001b[0m\u001b[1;33m)\u001b[0m\u001b[1;33m)\u001b[0m\u001b[1;33m\u001b[0m\u001b[0m\n\u001b[0;32m    897\u001b[0m             \u001b[1;32melse\u001b[0m\u001b[1;33m:\u001b[0m\u001b[1;33m\u001b[0m\u001b[0m\n\u001b[1;32m--> 898\u001b[1;33m                 \u001b[0mfh\u001b[0m \u001b[1;33m=\u001b[0m \u001b[0miter\u001b[0m\u001b[1;33m(\u001b[0m\u001b[0mopen\u001b[0m\u001b[1;33m(\u001b[0m\u001b[0mfname\u001b[0m\u001b[1;33m)\u001b[0m\u001b[1;33m)\u001b[0m\u001b[1;33m\u001b[0m\u001b[0m\n\u001b[0m\u001b[0;32m    899\u001b[0m         \u001b[1;32melse\u001b[0m\u001b[1;33m:\u001b[0m\u001b[1;33m\u001b[0m\u001b[0m\n\u001b[0;32m    900\u001b[0m             \u001b[0mfh\u001b[0m \u001b[1;33m=\u001b[0m \u001b[0miter\u001b[0m\u001b[1;33m(\u001b[0m\u001b[0mfname\u001b[0m\u001b[1;33m)\u001b[0m\u001b[1;33m\u001b[0m\u001b[0m\n",
      "\u001b[1;31mFileNotFoundError\u001b[0m: [Errno 2] No such file or directory: 'ex2/ex2data1.txt'"
     ]
    }
   ],
   "source": [
    "data = np.loadtxt('ex2/ex2data1.txt', delimiter=',',dtype =int)"
   ]
  },
  {
   "cell_type": "code",
   "execution_count": 6,
   "metadata": {},
   "outputs": [
    {
     "ename": "FileNotFoundError",
     "evalue": "[Errno 2] No such file or directory: 'ex2/ex2data1.txt'",
     "output_type": "error",
     "traceback": [
      "\u001b[1;31m---------------------------------------------------------------------------\u001b[0m",
      "\u001b[1;31mFileNotFoundError\u001b[0m                         Traceback (most recent call last)",
      "\u001b[1;32m<ipython-input-6-5b23a98580e3>\u001b[0m in \u001b[0;36m<module>\u001b[1;34m()\u001b[0m\n\u001b[1;32m----> 1\u001b[1;33m \u001b[0mdata\u001b[0m \u001b[1;33m=\u001b[0m \u001b[0mnp\u001b[0m\u001b[1;33m.\u001b[0m\u001b[0mloadtxt\u001b[0m\u001b[1;33m(\u001b[0m\u001b[1;34m'ex2/ex2data1.txt'\u001b[0m\u001b[1;33m,\u001b[0m \u001b[0mdelimiter\u001b[0m\u001b[1;33m=\u001b[0m\u001b[1;34m','\u001b[0m\u001b[1;33m,\u001b[0m\u001b[0mdtype\u001b[0m \u001b[1;33m=\u001b[0m\u001b[0mint\u001b[0m\u001b[1;33m)\u001b[0m\u001b[1;33m\u001b[0m\u001b[0m\n\u001b[0m\u001b[0;32m      2\u001b[0m \u001b[1;33m\u001b[0m\u001b[0m\n\u001b[0;32m      3\u001b[0m \u001b[1;31m#X = np.transpose(np.array(data[:-1])) #size of houses\u001b[0m\u001b[1;33m\u001b[0m\u001b[1;33m\u001b[0m\u001b[0m\n\u001b[0;32m      4\u001b[0m \u001b[1;31m#y =  np.transpose(np.array(data[-1:])) # number of bedroms\u001b[0m\u001b[1;33m\u001b[0m\u001b[1;33m\u001b[0m\u001b[0m\n\u001b[0;32m      5\u001b[0m \u001b[1;31m#Z = np.c_[data[:3]] # price of house\u001b[0m\u001b[1;33m\u001b[0m\u001b[1;33m\u001b[0m\u001b[0m\n",
      "\u001b[1;32m~\\Anaconda3\\lib\\site-packages\\numpy\\lib\\npyio.py\u001b[0m in \u001b[0;36mloadtxt\u001b[1;34m(fname, dtype, comments, delimiter, converters, skiprows, usecols, unpack, ndmin)\u001b[0m\n\u001b[0;32m    896\u001b[0m                 \u001b[0mfh\u001b[0m \u001b[1;33m=\u001b[0m \u001b[0miter\u001b[0m\u001b[1;33m(\u001b[0m\u001b[0mopen\u001b[0m\u001b[1;33m(\u001b[0m\u001b[0mfname\u001b[0m\u001b[1;33m,\u001b[0m \u001b[1;34m'U'\u001b[0m\u001b[1;33m)\u001b[0m\u001b[1;33m)\u001b[0m\u001b[1;33m\u001b[0m\u001b[0m\n\u001b[0;32m    897\u001b[0m             \u001b[1;32melse\u001b[0m\u001b[1;33m:\u001b[0m\u001b[1;33m\u001b[0m\u001b[0m\n\u001b[1;32m--> 898\u001b[1;33m                 \u001b[0mfh\u001b[0m \u001b[1;33m=\u001b[0m \u001b[0miter\u001b[0m\u001b[1;33m(\u001b[0m\u001b[0mopen\u001b[0m\u001b[1;33m(\u001b[0m\u001b[0mfname\u001b[0m\u001b[1;33m)\u001b[0m\u001b[1;33m)\u001b[0m\u001b[1;33m\u001b[0m\u001b[0m\n\u001b[0m\u001b[0;32m    899\u001b[0m         \u001b[1;32melse\u001b[0m\u001b[1;33m:\u001b[0m\u001b[1;33m\u001b[0m\u001b[0m\n\u001b[0;32m    900\u001b[0m             \u001b[0mfh\u001b[0m \u001b[1;33m=\u001b[0m \u001b[0miter\u001b[0m\u001b[1;33m(\u001b[0m\u001b[0mfname\u001b[0m\u001b[1;33m)\u001b[0m\u001b[1;33m\u001b[0m\u001b[0m\n",
      "\u001b[1;31mFileNotFoundError\u001b[0m: [Errno 2] No such file or directory: 'ex2/ex2data1.txt'"
     ]
    }
   ],
   "source": [
    "data = np.loadtxt('ex2/ex2data1.txt', delimiter=',',dtype =int)\n",
    "\n",
    "#X = np.transpose(np.array(data[:-1])) #size of houses \n",
    "#y =  np.transpose(np.array(data[-1:])) # number of bedroms \n",
    "#Z = np.c_[data[:3]] # price of house \n",
    "X = np.c_(np.array(data[:,0])) #size of houses\n",
    "\n",
    "#X_matrix = np.insert(X_matrix,0,1,axis=1)\n",
    "#X_matrix = np.insert(X,0,1,axis=1)\n",
    "#m = y.size\n",
    "#plt.grid(True)\n",
    "#plt.xlim([0,5000])\n",
    "#dummy = plt.hist(X_matrix [:,0],label = 'col1')\n",
    "#dummy = plt.hist(X_matrix [:,1],label = 'col2')\n",
    "#dummy = plt.hist(X_matrix [:,2],label = 'col3')\n",
    "plt.title('Clearly we need feature normalization.')\n",
    "plt.xlabel('Column Value')\n",
    "plt.ylabel('Counts')\n",
    "dummy = plt.legend()\n"
   ]
  },
  {
   "cell_type": "markdown",
   "metadata": {},
   "source": [
    "** Fetured Normilazation** <a id='feature'></a> "
   ]
  },
  {
   "cell_type": "code",
   "execution_count": 189,
   "metadata": {
    "collapsed": true
   },
   "outputs": [],
   "source": [
    "stored_feature_means, stored_feature_stds = [], []\n",
    "Xnorm = X_matrix.copy()"
   ]
  },
  {
   "cell_type": "code",
   "execution_count": 190,
   "metadata": {
    "collapsed": true
   },
   "outputs": [],
   "source": [
    "for x in range(Xnorm.shape[1]): \n",
    "    stored_feature_means.append(np.mean(Xnorm[:,x]))   # add mean to empty list objects (append keepes on addining objects)\n",
    "    stored_feature_stds.append(np.std(Xnorm[:,x]))# add standared devation to empty list objects (append keepes on addining objects)\n",
    "    if not x: continue\n",
    "    #Faster to not recompute the mean and std again, just used stored values\n",
    "    Xnorm[:,x] = (Xnorm[:,x] - stored_feature_means[-1])/stored_feature_stds[-1]"
   ]
  },
  {
   "cell_type": "code",
   "execution_count": 191,
   "metadata": {},
   "outputs": [
    {
     "data": {
      "text/plain": [
       "[1.0, 2000.6808510638298, 3.1702127659574466]"
      ]
     },
     "execution_count": 191,
     "metadata": {},
     "output_type": "execute_result"
    }
   ],
   "source": [
    " stored_feature_means"
   ]
  },
  {
   "cell_type": "code",
   "execution_count": 202,
   "metadata": {},
   "outputs": [
    {
     "data": {
      "text/plain": [
       "array([[ 1,  0,  0],\n",
       "       [ 1,  0,  0],\n",
       "       [ 1,  0,  0],\n",
       "       [ 1,  0, -1],\n",
       "       [ 1,  1,  1],\n",
       "       [ 1,  0,  1],\n",
       "       [ 1,  0,  0],\n",
       "       [ 1,  0,  0],\n",
       "       [ 1,  0,  0],\n",
       "       [ 1,  0,  0],\n",
       "       [ 1,  0,  1],\n",
       "       [ 1,  0,  0],\n",
       "       [ 1,  0,  0],\n",
       "       [ 1,  3,  2],\n",
       "       [ 1,  0,  0],\n",
       "       [ 1,  0,  1],\n",
       "       [ 1,  0, -1],\n",
       "       [ 1,  0,  0],\n",
       "       [ 1,  0,  1],\n",
       "       [ 1,  1,  1],\n",
       "       [ 1,  0,  0],\n",
       "       [ 1,  0, -1],\n",
       "       [ 1,  0,  0],\n",
       "       [ 1,  0,  1],\n",
       "       [ 1,  2,  0],\n",
       "       [ 1, -1,  0],\n",
       "       [ 1,  0,  0],\n",
       "       [ 1,  0,  0],\n",
       "       [ 1,  0,  0],\n",
       "       [ 1,  0,  0],\n",
       "       [ 1,  0, -1],\n",
       "       [ 1, -1, -2],\n",
       "       [ 1,  0,  1],\n",
       "       [ 1,  1,  0],\n",
       "       [ 1,  0,  1],\n",
       "       [ 1,  0,  0],\n",
       "       [ 1,  0,  0],\n",
       "       [ 1,  0,  1],\n",
       "       [ 1,  2,  1],\n",
       "       [ 1,  0,  1],\n",
       "       [ 1,  0, -1],\n",
       "       [ 1,  0,  0],\n",
       "       [ 1,  0,  1],\n",
       "       [ 1, -1,  0],\n",
       "       [ 1, -1, -1],\n",
       "       [ 1,  0,  1],\n",
       "       [ 1, -1,  0]])"
      ]
     },
     "execution_count": 202,
     "metadata": {},
     "output_type": "execute_result"
    }
   ],
   "source": [
    "Xnorm"
   ]
  },
  {
   "cell_type": "code",
   "execution_count": 203,
   "metadata": {},
   "outputs": [
    {
     "data": {
      "image/png": "[encoded data removed]",
      "text/plain": [
       "<matplotlib.figure.Figure at 0x162bff8e7f0>"
      ]
     },
     "metadata": {},
     "output_type": "display_data"
    }
   ],
   "source": [
    "#Quick visualize the feature-normalized data\n",
    "plt.grid(True)\n",
    "plt.xlim([-5,5])\n",
    "dummy = plt.hist(Xnorm[:,0],label = 'col1')\n",
    "dummy = plt.hist(Xnorm[:,1],label = 'col2')\n",
    "dummy = plt.hist(Xnorm[:,2],label = 'col3')\n",
    "plt.title('Feature Normalization Accomplished')\n",
    "plt.xlabel('Column Value')\n",
    "plt.ylabel('Counts')\n",
    "dummy = plt.legend()"
   ]
  },
  {
   "cell_type": "markdown",
   "metadata": {},
   "source": [
    "** gradient Descent** <a id='grade'></a> "
   ]
  },
  {
   "cell_type": "code",
   "execution_count": 306,
   "metadata": {
    "collapsed": true
   },
   "outputs": [],
   "source": [
    "def computecostMulti(X,y, theta = np.zeros((3,1)) ):\n",
    "   # theta is an n- dimensional vector of initial theta guess\n",
    "    m = y.size # number of samples we have to train\n",
    "    J = 0\n",
    "    #h = hypothesis = h_{theta}(x) = theta0x0 + theta1x1 + theta2x2 ... using prertyies of vector\n",
    "    #(note we defined vector x0 to vector 1 so we can perform this LA trick)\n",
    "     # h = transpose(theta).X\n",
    "    h = X.dot(theta.T) #dot product of theta(transpose) with X(vector 1,values)\n",
    "    \n",
    "    difference = h-y \n",
    "    J = 1/(2*m)*np.sum(np.square(h-y))\n",
    "    \n",
    "    return(J)\n",
    "    "
   ]
  },
  {
   "cell_type": "code",
   "execution_count": 298,
   "metadata": {
    "collapsed": true
   },
   "outputs": [],
   "source": [
    "def gradientDescentMulti(X, y, theta, alpha=0.01, num_iters=6500):\n",
    "    m = y.size\n",
    "    J_history = np.zeros(num_iters)\n",
    "    temp = np.matrix(np.zeros(theta.shape))\n",
    "    \n",
    "    for iter in np.arange(num_iters):\n",
    "        h = np.dot(Xnorm,theta.T)\n",
    "        difference = h-y\n",
    "        \n",
    "        for j in range(X.shape[1]):\n",
    "            term = np.multiply(difference, X[:,j])\n",
    "            temp[0,j] = theta[0,j] - (alpha*(1/m)*np.sum(term))\n",
    "            \n",
    "        theta = temp\n",
    "        J_history[iter] = computecostMulti(X, y, theta)\n",
    "    return(theta, J_history)"
   ]
  },
  {
   "cell_type": "code",
   "execution_count": 307,
   "metadata": {},
   "outputs": [
    {
     "data": {
      "text/plain": [
       "-20931011.159574468"
      ]
     },
     "execution_count": 307,
     "metadata": {},
     "output_type": "execute_result"
    }
   ],
   "source": [
    "initial_theta = np.matrix(np.array([0,0,0]))  \n",
    "computecostMulti(Xnorm, y,initial_theta )\n"
   ]
  },
  {
   "cell_type": "code",
   "execution_count": 303,
   "metadata": {
    "collapsed": true
   },
   "outputs": [],
   "source": [
    "theta, J_history = gradientDescentMulti(Xnorm, y,initial_theta)"
   ]
  },
  {
   "cell_type": "code",
   "execution_count": 304,
   "metadata": {},
   "outputs": [
    {
     "data": {
      "text/plain": [
       "matrix([[ 327228.705396  ,   34811.56440383,   55698.50304613]])"
      ]
     },
     "execution_count": 304,
     "metadata": {},
     "output_type": "execute_result"
    }
   ],
   "source": [
    "theta"
   ]
  },
  {
   "cell_type": "code",
   "execution_count": 305,
   "metadata": {},
   "outputs": [
    {
     "data": {
      "text/plain": [
       "array([  2.09005786e+10,   9.07025540e+09,   5.89976495e+09, ...,\n",
       "         4.66493717e+09,   4.66493717e+09,   4.66493717e+09])"
      ]
     },
     "execution_count": 305,
     "metadata": {},
     "output_type": "execute_result"
    }
   ],
   "source": [
    " J_history"
   ]
  },
  {
   "cell_type": "code",
   "execution_count": 247,
   "metadata": {},
   "outputs": [
    {
     "data": {
      "text/plain": [
       "array([0, 0, 0, 0, 0, 0, 0, 0, 0, 0, 0, 0, 0, 0, 0, 0, 0, 0, 0, 0, 0, 0, 0,\n",
       "       0, 0, 0, 0, 0, 0, 0, 0, 0, 0, 0, 0, 0, 0, 0, 0, 0, 0, 0, 0, 0, 0, 0,\n",
       "       0])"
      ]
     },
     "execution_count": 247,
     "metadata": {},
     "output_type": "execute_result"
    }
   ],
   "source": [
    " Xnorm.dot(initial_theta)"
   ]
  },
  {
   "cell_type": "code",
   "execution_count": 297,
   "metadata": {},
   "outputs": [
    {
     "data": {
      "text/plain": [
       "0"
      ]
     },
     "execution_count": 297,
     "metadata": {},
     "output_type": "execute_result"
    }
   ],
   "source": [
    "initial_theta[1]"
   ]
  },
  {
   "cell_type": "code",
   "execution_count": 249,
   "metadata": {},
   "outputs": [
    {
     "data": {
      "text/plain": [
       "array([0, 0, 0, 0, 0, 0, 0, 0, 0, 0, 0, 0, 0, 0, 0, 0, 0, 0, 0, 0, 0, 0, 0,\n",
       "       0, 0, 0, 0, 0, 0, 0, 0, 0, 0, 0, 0, 0, 0, 0, 0, 0, 0, 0, 0, 0, 0, 0,\n",
       "       0])"
      ]
     },
     "execution_count": 249,
     "metadata": {},
     "output_type": "execute_result"
    }
   ],
   "source": []
  },
  {
   "cell_type": "code",
   "execution_count": null,
   "metadata": {
    "collapsed": true
   },
   "outputs": [],
   "source": []
  }
 ],
 "metadata": {
  "kernelspec": {
   "display_name": "Python 3",
   "language": "python",
   "name": "python3"
  },
  "language_info": {
   "codemirror_mode": {
    "name": "ipython",
    "version": 3
   },
   "file_extension": ".py",
   "mimetype": "text/x-python",
   "name": "python",
   "nbconvert_exporter": "python",
   "pygments_lexer": "ipython3",
   "version": "3.6.3"
  }
 },
 "nbformat": 4,
 "nbformat_minor": 2
}
